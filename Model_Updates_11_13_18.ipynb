{
 "cells": [
  {
   "cell_type": "markdown",
   "metadata": {},
   "source": [
    "# Updates to the PA14 reconstruction"
   ]
  },
  {
   "cell_type": "markdown",
   "metadata": {},
   "source": [
    "Load reconstructions and initialize cobrapy: "
   ]
  },
  {
   "cell_type": "code",
   "execution_count": 1,
   "metadata": {},
   "outputs": [],
   "source": [
    "# Initialize cobrapy\n",
    "from __future__ import print_function\n",
    "\n",
    "import cobra\n",
    "import cobra.test\n",
    "import os\n",
    "from os.path import join\n",
    "\n",
    "# Load LJD functions which includes changeMedia_PA_LJD(model, media)\n",
    "from LJD_Functions import *\n",
    "\n",
    "# Had to install libsbml to load an xml file\n",
    "# pip install python-libsbml in Python/Scripts folder\n",
    "# website: http://sbml.org/Software/libSBML/Downloading_libSBML#Using_pip_from_PyPI\n",
    "import libsbml\n",
    "\n",
    "# Other packages\n",
    "from copy import *"
   ]
  },
  {
   "cell_type": "code",
   "execution_count": 4,
   "metadata": {},
   "outputs": [
    {
     "data": {
      "text/html": [
       "\n",
       "        <table>\n",
       "            <tr>\n",
       "                <td><strong>Name</strong></td>\n",
       "                <td></td>\n",
       "            </tr><tr>\n",
       "                <td><strong>Memory address</strong></td>\n",
       "                <td>0x06014110</td>\n",
       "            </tr><tr>\n",
       "                <td><strong>Number of metabolites</strong></td>\n",
       "                <td>1284</td>\n",
       "            </tr><tr>\n",
       "                <td><strong>Number of reactions</strong></td>\n",
       "                <td>1496</td>\n",
       "            </tr><tr>\n",
       "                <td><strong>Objective expression</strong></td>\n",
       "                <td>-1.0*PAO1_Biomass_reverse_55fa3 + 1.0*PAO1_Biomass</td>\n",
       "            </tr><tr>\n",
       "                <td><strong>Compartments</strong></td>\n",
       "                <td>Cytoplasm, Extracellular</td>\n",
       "            </tr>\n",
       "          </table>"
      ],
      "text/plain": [
       "<Model  at 0x6014110>"
      ]
     },
     "execution_count": 4,
     "metadata": {},
     "output_type": "execute_result"
    }
   ],
   "source": [
    "# Import the PAO1 as an XML\n",
    "# Note: Models can be imported as SBML, JSON, .mat, and I believe one other format\n",
    "model_PAO1 = cobra.io.read_sbml_model( \"iPAE1146.xml\")\n",
    "model_PAO1\n"
   ]
  },
  {
   "cell_type": "code",
   "execution_count": 5,
   "metadata": {},
   "outputs": [
    {
     "data": {
      "text/html": [
       "\n",
       "        <table>\n",
       "            <tr>\n",
       "                <td><strong>Name</strong></td>\n",
       "                <td></td>\n",
       "            </tr><tr>\n",
       "                <td><strong>Memory address</strong></td>\n",
       "                <td>0x05f89830</td>\n",
       "            </tr><tr>\n",
       "                <td><strong>Number of metabolites</strong></td>\n",
       "                <td>1286</td>\n",
       "            </tr><tr>\n",
       "                <td><strong>Number of reactions</strong></td>\n",
       "                <td>1495</td>\n",
       "            </tr><tr>\n",
       "                <td><strong>Objective expression</strong></td>\n",
       "                <td>-1.0*PA14_Biomass_reverse_70e78 + 1.0*PA14_Biomass</td>\n",
       "            </tr><tr>\n",
       "                <td><strong>Compartments</strong></td>\n",
       "                <td>Cytoplasm, Extracellular</td>\n",
       "            </tr>\n",
       "          </table>"
      ],
      "text/plain": [
       "<Model  at 0x5f89830>"
      ]
     },
     "execution_count": 5,
     "metadata": {},
     "output_type": "execute_result"
    }
   ],
   "source": [
    "# Import the PA14 as an XML\n",
    "# Note: Models can be imported as SBML, JSON, .mat, and I believe one other format\n",
    "model_PA14 = cobra.io.read_sbml_model(\"iPAU1129.xml\")\n",
    "model_PA14"
   ]
  },
  {
   "cell_type": "markdown",
   "metadata": {},
   "source": [
    "T0) Update SBML file and test in Memote\n",
    "\n",
    "memote server: https://next.memote.io/\n"
   ]
  },
  {
   "cell_type": "markdown",
   "metadata": {},
   "source": [
    "T1) Correct mass imbalances and double check with Memote and cobrapy (Jake)"
   ]
  },
  {
   "cell_type": "markdown",
   "metadata": {},
   "source": [
    "T2) Reconcile incorrect carbon source utilization predicitons (Taylor)"
   ]
  },
  {
   "cell_type": "markdown",
   "metadata": {},
   "source": [
    "T3) Reconcile incorrect gene essentiality predictions on certain carbon sources (Taylor)"
   ]
  },
  {
   "cell_type": "markdown",
   "metadata": {},
   "source": [
    "T4) Update rJB and rPY reactions where possible with SEED reactions (Phil)"
   ]
  },
  {
   "cell_type": "markdown",
   "metadata": {},
   "source": [
    "T5) Balance the biomass equation \n",
    "\n",
    "Currently adds to 1.1\n",
    "\n",
    "Perhaps divide everything by 1.1? "
   ]
  },
  {
   "cell_type": "markdown",
   "metadata": {},
   "source": [
    "T6) Break biomass equation down into macromolecules (Matt J) "
   ]
  },
  {
   "cell_type": "markdown",
   "metadata": {},
   "source": [
    "T7) Remove redundant metabolites and reactions where possible (Jennie)\n",
    "\n",
    "Add new KEGG IDs \n",
    "\n",
    "Add in chemical formulas where they are missing (L-sorbose)\n"
   ]
  },
  {
   "cell_type": "markdown",
   "metadata": {},
   "source": [
    "T8) Reconcile under-constrained cofactor utilization"
   ]
  },
  {
   "cell_type": "markdown",
   "metadata": {},
   "source": [
    "T9) Add relevant VF production reactions (Andreas and Aline) "
   ]
  },
  {
   "cell_type": "markdown",
   "metadata": {},
   "source": [
    "T10) Resolve incorrect flux prediction \n",
    "\n",
    "Look at ATP utilization\n",
    "\n",
    "Try to remove and add back in anaerobic reactions "
   ]
  },
  {
   "cell_type": "markdown",
   "metadata": {},
   "source": [
    "T11) Reassess gene essentiality, carbon source utilization, and growth rate predictions"
   ]
  },
  {
   "cell_type": "code",
   "execution_count": null,
   "metadata": {},
   "outputs": [],
   "source": []
  }
 ],
 "metadata": {
  "kernelspec": {
   "display_name": "Python 3",
   "language": "python",
   "name": "python3"
  },
  "language_info": {
   "codemirror_mode": {
    "name": "ipython",
    "version": 3
   },
   "file_extension": ".py",
   "mimetype": "text/x-python",
   "name": "python",
   "nbconvert_exporter": "python",
   "pygments_lexer": "ipython3",
   "version": "3.6.5"
  }
 },
 "nbformat": 4,
 "nbformat_minor": 2
}
