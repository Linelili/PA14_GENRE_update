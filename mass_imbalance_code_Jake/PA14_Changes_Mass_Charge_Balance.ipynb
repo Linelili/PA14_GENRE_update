{
 "cells": [
  {
   "cell_type": "markdown",
   "metadata": {},
   "source": [
    "# Unbalanced Reaction Changes\n",
    "    ## For each reaction alter if needed: stoich, reactants/products, metabolites, formulas, and charge\n",
    "# Checked before and after\n",
    "    ### Difference between biomass < .0001\n",
    "    ### Media changes\n",
    "    ### Gene essentiallity predictions\n",
    "    ### flux through reaction difference \n",
    "\n",
    "## Extra goal of adding pKa to model \n"
   ]
  },
  {
   "cell_type": "code",
   "execution_count": 1,
   "metadata": {},
   "outputs": [],
   "source": [
    "import cobra\n",
    "import copy\n",
    "import os\n",
    "from os.path import join\n",
    "from cobra import Model, Reaction, Metabolite\n",
    "from __future__ import print_function\n",
    "import json\n",
    "from pprint import pprint\n",
    "#!/usr/bin/env python3\n",
    "import fileinput\n",
    "import re\n",
    "from cobra.test import create_test_model\n",
    "from cobra.flux_analysis import sample\n",
    "from cobra.medium import minimal_medium\n",
    "from cobra.flux_analysis import flux_variability_analysis\n",
    "import pandas\n",
    "from time import time\n",
    "from cobra.flux_analysis import (\n",
    "    single_gene_deletion, single_reaction_deletion, double_gene_deletion,\n",
    "    double_reaction_deletion)\n",
    "\n",
    "# %matplotlib inline\n",
    "# import plot_helper\n",
    "\n",
    "import cobra.test\n",
    "from cobra import Reaction, Metabolite, Model\n",
    "from cobra.flux_analysis.loopless import add_loopless, loopless_solution\n",
    "from cobra.flux_analysis import pfba\n",
    "\n",
    "\n",
    "\n",
    "import logging\n",
    "from operator import attrgetter\n",
    "\n",
    "import pandas as pd\n",
    "from numpy import zeros\n",
    "from six import iteritems, print_\n",
    "from six.moves import zip_longest\n",
    "from tabulate import tabulate\n",
    "\n",
    "from cobra.flux_analysis.variability import flux_variability_analysis\n",
    "from cobra.util.solver import linear_reaction_coefficients\n",
    "from cobra.util.util import format_long_string\n",
    "from cobra.core import get_solution\n",
    "\n",
    "LOGGER = logging.getLogger(__name__)\n",
    "from cobra.flux_analysis.summary import  (metabolite_summary, model_summary, _process_flux_dataframe)"
   ]
  },
  {
   "cell_type": "markdown",
   "metadata": {},
   "source": [
    "# Load Various Func's"
   ]
  },
  {
   "cell_type": "code",
   "execution_count": 2,
   "metadata": {},
   "outputs": [
    {
     "ename": "ModuleNotFoundError",
     "evalue": "No module named 'FLJT'",
     "output_type": "error",
     "traceback": [
      "\u001b[1;31m---------------------------------------------------------------------------\u001b[0m",
      "\u001b[1;31mModuleNotFoundError\u001b[0m                       Traceback (most recent call last)",
      "\u001b[1;32m<ipython-input-2-5b09ec9ac2d4>\u001b[0m in \u001b[0;36m<module>\u001b[1;34m()\u001b[0m\n\u001b[1;32m----> 1\u001b[1;33m \u001b[1;32mimport\u001b[0m \u001b[0mFLJT\u001b[0m\u001b[1;33m\u001b[0m\u001b[0m\n\u001b[0m",
      "\u001b[1;31mModuleNotFoundError\u001b[0m: No module named 'FLJT'"
     ]
    }
   ],
   "source": [
    "import FLJT"
   ]
  },
  {
   "cell_type": "markdown",
   "metadata": {},
   "source": [
    "#  Minimal Media Characteristics"
   ]
  },
  {
   "cell_type": "code",
   "execution_count": null,
   "metadata": {},
   "outputs": [],
   "source": [
    "# #minimal Media\n",
    "# minimal_M9 = ['EX_cpd00009_LPAREN_e_RPAREN_','EX_cpd00971_LPAREN_e_RPAREN_', 'EX_cpd00067_LPAREN_e_RPAREN_',\n",
    "#               'EX_cpd00001_LPAREN_e_RPAREN_',\n",
    "#               'EX_cpd00205_LPAREN_e_RPAREN_', 'EX_cpd00099_LPAREN_e_RPAREN_', 'EX_cpd00013_LPAREN_e_RPAREN_',\n",
    "#               'EX_cpd00528_LPAREN_e_RPAREN_', 'EX_cpd00254_LPAREN_e_RPAREN_', 'EX_cpd00048_LPAREN_e_RPAREN_', \n",
    "#               'EX_cpd00058_LPAREN_e_RPAREN_', 'EX_cpd00030_LPAREN_e_RPAREN_', \n",
    "#               'EX_cpd00034_LPAREN_e_RPAREN_', 'EX_cpd00021_LPAREN_e_RPAREN_', 'EX_cpd10516_LPAREN_e_RPAREN_',\n",
    "#               'EX_cpd00007_LPAREN_e_RPAREN_',\n",
    "#               'EX_cpd00011_LPAREN_e_RPAREN_', 'EX_cpd00149_LPAREN_e_RPAREN_', 'EX_cpd00254_LPAREN_e_RPAREN_',\n",
    "#               'EX_cpd00244_LPAREN_e_RPAREN_',\n",
    "#               'EX_cpd01012_LPAREN_e_RPAREN_'] #M9 Minimal Media components with some extra components not found in Burk Paper\n",
    "\n",
    "# minimal_M9_2 = ['EX_cpd00007_LPAREN_e_RPAREN_','EX_cpd00011_LPAREN_e_RPAREN_','EX_cpd00067_LPAREN_e_RPAREN_', \n",
    "#                'EX_cpd00001_LPAREN_e_RPAREN_', 'EX_cpd00205_LPAREN_e_RPAREN_','EX_cpd00254_LPAREN_e_RPAREN_',\n",
    "#                'EX_cpd00971_LPAREN_e_RPAREN_','EX_cpd00013_LPAREN_e_RPAREN_','EX_cpd00021_LPAREN_e_RPAREN_',\n",
    "#                'EX_cpd00009_LPAREN_e_RPAREN_','EX_cpd00048_LPAREN_e_RPAREN_','EX_cpd00528_LPAREN_e_RPAREN_',\n",
    "#                'EX_cpd00030_LPAREN_e_RPAREN_','EX_cpd00034_LPAREN_e_RPAREN_','EX_cpd00058_LPAREN_e_RPAREN_',\n",
    "#                'EX_cpd00149_LPAREN_e_RPAREN_','EX_cpd00244_LPAREN_e_RPAREN_','EX_cpd01012_LPAREN_e_RPAREN_',\n",
    "#                'EX_cpd10516_LPAREN_e_RPAREN_']# M9 Minimal Media Components in Burk Paper\n",
    "\n",
    "# listed = model.exchanges                        #All exchange reactions \n",
    "\n",
    "# for i in range( len(minimal_M9_2) ):                               #for each exchange reaction in minimal_M9_2\n",
    "#     if minimal_M9_2[i] in listed: listed.remove(minimal_M9_2[i])    #If Ex_rxn name in listed remove it\n",
    "\n",
    "# #string name of multiple carbon sources + other exchanges not found in minimal media\n",
    "# exchange_source_list = listed\n",
    "\n",
    "#Notes\n",
    "\n",
    "#minimal media (m9) is missing boron, calcium, colbalt and  molybedenum. Calcium is missing in the model. \n",
    "#also contains some elements not in atmosphere or in media, E.g. Ni, Mg or Cd\n",
    "#http://jb.asm.org/content/early/2013/10/21/JB.00997-13.short ----> Minimal Media in supplementals "
   ]
  },
  {
   "cell_type": "markdown",
   "metadata": {},
   "source": [
    "# Model Copy Instantiation"
   ]
  },
  {
   "cell_type": "code",
   "execution_count": null,
   "metadata": {},
   "outputs": [],
   "source": [
    "model = cobra.io.read_sbml_model('iPAU1129.xml', use_hyphens=False)\n",
    "\n",
    "model_all_changes = copy.deepcopy(model)\n",
    "\n",
    "model_all_changes_good = copy.deepcopy(model)\n",
    "\n",
    "#Optimized Model Without ANy Changes\n",
    "\n",
    "model.summary()\n"
   ]
  },
  {
   "cell_type": "markdown",
   "metadata": {},
   "source": [
    "# Load model copy "
   ]
  },
  {
   "cell_type": "code",
   "execution_count": null,
   "metadata": {},
   "outputs": [],
   "source": [
    "\n",
    "#deep copy has sliiiight changes in model results \n",
    "\n",
    "temp = copy.deepcopy(model) #Create temporary model\n",
    "# temp.optimize()\n"
   ]
  },
  {
   "cell_type": "code",
   "execution_count": null,
   "metadata": {},
   "outputs": [],
   "source": [
    "\n",
    "#Carbon source list\n",
    "carbonSource = ['EX_cpd00036_LPAREN_e_RPAREN_']                                #succinate carbon source\n",
    "\n",
    "\n",
    "#contains dictionary of minimal media conditions and model optimize values\n",
    "\n",
    "media_list = []\n",
    "ind_media = []\n",
    "for i in range(1, 4):#1 to number of media conditions 3 --> (4-1) = 3\n",
    "\n",
    "    media =  FLJT.changeMedia_PA_LJD(temp, i, carbonSource)\n",
    "    media.optimize()\n",
    "    \n",
    "    ind_media.append( media)\n",
    "    ind_media.append( media.objective.value )\n",
    "    media_list.append(ind_media)\n",
    "    ind_media = []\n",
    "\n",
    "for i in range(0,3):\n",
    "    print('\\nModel Name: ', media_list[i][0] )\n",
    "    print('Model Objective Value: ', media_list[i][1]) \n",
    "    print('Model Carbon source: ', model.reactions.get_by_id(carbonSource[0]).name)\n"
   ]
  },
  {
   "cell_type": "markdown",
   "metadata": {},
   "source": [
    "# rxn13808 load + supplementary load rxn10772\n"
   ]
  },
  {
   "cell_type": "code",
   "execution_count": null,
   "metadata": {
    "scrolled": false
   },
   "outputs": [],
   "source": [
    "\n",
    "rxn_name = 'rxn13808'\n",
    "rxn_name_2 = 'rxn10772'    #secondary reaction with NH4OH to be analyzed for flux changes\n"
   ]
  },
  {
   "cell_type": "markdown",
   "metadata": {},
   "source": [
    "# Results Before\n"
   ]
  },
  {
   "cell_type": "code",
   "execution_count": null,
   "metadata": {},
   "outputs": [],
   "source": [
    "#flux through the two reactions in each of the media conditions\n",
    "\n",
    "temp_flux_before = []\n",
    "copy_media_temp = copy.deepcopy(media_list)\n",
    "\n",
    "for i in range(0, 3):\n",
    "        print('asdfd')\n",
    "        loop_reactions = [copy_media_temp[i][0].reactions.get_by_id(rxn_name), copy_media_temp[i][0].reactions.get_by_id(rxn_name_2)]\n",
    "        temp_flux_before.append( flux_variability_analysis(copy_media_temp[i][0], reaction_list=loop_reactions, loopless=True) ) #range of fluxes through the reaction\n",
    "        del loop_reactions\n",
    "del copy_media_temp\n",
    "\n",
    "#Essential Genes Before - Biomass Results Before - Gene Knockouts \n",
    "copy_media_temp = copy.deepcopy(media_list)\n",
    "del_results_media_after = []\n",
    "\n",
    "for i in range(0,3):\n",
    "        del_results_media_after.append( single_gene_deletion(copy_media_temp[i][0]) )\n",
    "del copy_media_temp\n"
   ]
  },
  {
   "cell_type": "markdown",
   "metadata": {},
   "source": [
    "# Reaction and Metabolite Modifications"
   ]
  },
  {
   "cell_type": "code",
   "execution_count": null,
   "metadata": {},
   "outputs": [],
   "source": [
    "\n",
    "#Reaction as Written\n",
    "\n",
    "'''\n",
    "PROBLEMS: Charge imbalance +2 on the right right side \n",
    "\n",
    "3.0 cpd00004_c + 4.0 cpd00067_c + cpd00075_c <=> cpd00001_c + 3.0 cpd00003_c + cpd00985_c\n",
    "\n",
    "3 NADH [0] + 4 H+ [0] + 1 Nitrite [0] -> 1 H2O [0] + 3 NAD [0] + 1 NH4OH [0]\n",
    "\n",
    "NH4OH has charge 2 in modelseed and in model\n",
    "Nh3 H2o is NH4OH... Recommended changing to neutral charge \n",
    "\n",
    "'''\n",
    "\n",
    "#Reaction Changes\n",
    "\n",
    "media_list_after = copy.deepcopy(media_list)\n",
    "for i in range(0, 3):\n",
    "    \n",
    "    media_list_after[i][0].metabolites.get_by_id('cpd00985_c').charge = 0           #change charge to 0 \n",
    "    media_list_after[i][0].optimize()\n",
    "    print(\"Media: %s\\nObjective value: %.15f\" % (media_list_after[i][0], media_list_after[i][0].objective.value))\n"
   ]
  },
  {
   "cell_type": "markdown",
   "metadata": {},
   "source": [
    "# Results Model After "
   ]
  },
  {
   "cell_type": "code",
   "execution_count": null,
   "metadata": {},
   "outputs": [],
   "source": [
    "#flux through the two reactions in each of the media conditions\n",
    "\n",
    "temp_flux_after = []\n",
    "copy_media_temp = copy.deepcopy(media_list_after)\n",
    "\n",
    "for i in range(0,3):\n",
    "    loop_reactions = [copy_media_temp[i][0].reactions.get_by_id(rxn_name), copy_media_temp[i][0].reactions.get_by_id(rxn_name_2)]   \n",
    "    temp_flux_after.append( flux_variability_analysis(copy_media_temp[i][0], reaction_list=loop_reactions, loopless=True) ) #range of fluxes through the reaction\n",
    "    del loop_reactions\n",
    "del copy_media_temp\n",
    "\n",
    "#Essential Genes Before - Biomass Results Before - Gene Knockouts \n",
    "copy_media_temp = copy.deepcopy(media_list_after)\n",
    "del_results_media_after = []\n",
    "\n",
    "for i in range(0,3):\n",
    "    del_results_media_after.append( single_gene_deletion(copy_media_temp[i][0]) )\n",
    "del copy_media_temp"
   ]
  },
  {
   "cell_type": "markdown",
   "metadata": {},
   "source": [
    "# Check if FreeMass Exist"
   ]
  },
  {
   "cell_type": "code",
   "execution_count": null,
   "metadata": {},
   "outputs": [],
   "source": [
    "for i in range(0,3):\n",
    "    print('Results from free mass are: ',FLJT.checkFreeMass(media_list_after[i][0], cytosol='c'))"
   ]
  },
  {
   "cell_type": "markdown",
   "metadata": {},
   "source": [
    "# Flux, objective values and deletion results printed"
   ]
  },
  {
   "cell_type": "code",
   "execution_count": null,
   "metadata": {},
   "outputs": [],
   "source": [
    "#difference in objective values\n",
    "# print('Objective value original - objective value after changes\\n')\n",
    "# for i in range(0, 3):\n",
    "#     print(\"Media: %s\\nObjective value change: %.20f\" % (media_list_after[i][0], media_list_after[i][0].objective.value))\n",
    "\n",
    "    #fluxes before and after\n",
    "print('\\nFlux results are:\\n\\n')\n",
    "print(temp_flux_before)\n",
    "print(temp_flux_after)    \n",
    "type(temp_flux_after)\n",
    "# print('\\nDeletion results are results are:\\n\\n')\n",
    "# print(del_results_media_after)\n",
    "# print(del_results_media_before)\n"
   ]
  },
  {
   "cell_type": "markdown",
   "metadata": {},
   "source": [
    "# Comment on results\n",
    "\n",
    "\n",
    "NH4OH is +2 charge in the model and in modelseed github. \n",
    "Changing the charge doubles the biomass. \n",
    "This appears to \n"
   ]
  },
  {
   "cell_type": "code",
   "execution_count": null,
   "metadata": {},
   "outputs": [],
   "source": [
    "FLJT.minimal_media_varied_carbon(media_list_after[0][0])"
   ]
  },
  {
   "cell_type": "code",
   "execution_count": null,
   "metadata": {},
   "outputs": [],
   "source": []
  }
 ],
 "metadata": {
  "kernelspec": {
   "display_name": "Python 3",
   "language": "python",
   "name": "python3"
  },
  "language_info": {
   "codemirror_mode": {
    "name": "ipython",
    "version": 3
   },
   "file_extension": ".py",
   "mimetype": "text/x-python",
   "name": "python",
   "nbconvert_exporter": "python",
   "pygments_lexer": "ipython3",
   "version": "3.6.5"
  }
 },
 "nbformat": 4,
 "nbformat_minor": 2
}
