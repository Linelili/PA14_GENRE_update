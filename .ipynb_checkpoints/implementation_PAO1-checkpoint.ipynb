{
 "cells": [
  {
   "cell_type": "code",
   "execution_count": 1,
   "metadata": {},
   "outputs": [],
   "source": [
    "# Initialize cobrapy\n",
    "from __future__ import print_function\n",
    "\n",
    "import cobra\n",
    "import cobra.test\n",
    "import os\n",
    "from os.path import join\n",
    "\n",
    "# Load LJD functions which includes changeMedia_PA_LJD(model, media)\n",
    "from LJD_Functions import *\n",
    "\n",
    "# Had to install libsbml to load an xml file\n",
    "# pip install python-libsbml in Python/Scripts folder\n",
    "# website: http://sbml.org/Software/libSBML/Downloading_libSBML#Using_pip_from_PyPI\n",
    "import libsbml\n",
    "\n",
    "# Other packages\n",
    "from copy import *"
   ]
  },
  {
   "cell_type": "code",
   "execution_count": 2,
   "metadata": {},
   "outputs": [
    {
     "data": {
      "text/html": [
       "\n",
       "        <table>\n",
       "            <tr>\n",
       "                <td><strong>Name</strong></td>\n",
       "                <td></td>\n",
       "            </tr><tr>\n",
       "                <td><strong>Memory address</strong></td>\n",
       "                <td>0x05a58c10</td>\n",
       "            </tr><tr>\n",
       "                <td><strong>Number of metabolites</strong></td>\n",
       "                <td>1284</td>\n",
       "            </tr><tr>\n",
       "                <td><strong>Number of reactions</strong></td>\n",
       "                <td>1496</td>\n",
       "            </tr><tr>\n",
       "                <td><strong>Objective expression</strong></td>\n",
       "                <td>-1.0*PAO1_Biomass_reverse_55fa3 + 1.0*PAO1_Biomass</td>\n",
       "            </tr><tr>\n",
       "                <td><strong>Compartments</strong></td>\n",
       "                <td>Cytoplasm, Extracellular</td>\n",
       "            </tr>\n",
       "          </table>"
      ],
      "text/plain": [
       "<Model  at 0x5a58c10>"
      ]
     },
     "execution_count": 2,
     "metadata": {},
     "output_type": "execute_result"
    }
   ],
   "source": [
    "# Import the PAO1 as an XML\n",
    "# Note: Models can be imported as SBML, JSON, .mat, and I believe one other format\n",
    "model_PAO1 = cobra.io.read_sbml_model( \"iPAE1146.xml\")\n",
    "model_PAO1\n"
   ]
  },
  {
   "cell_type": "code",
   "execution_count": 3,
   "metadata": {},
   "outputs": [],
   "source": [
    "# Change the media to LB\n",
    "model_LB = changeMedia_PA_LJD(model_PAO1, 1)\n",
    "\n",
    "# Change the media to SCFM\n",
    "model_SCFM = changeMedia_PA_LJD(model_PAO1, 2)\n",
    "\n",
    "# Change the media to minimal with succinate\n",
    "model_MM = changeMedia_PA_LJD(model_PAO1, 3, ['EX_cpd00036(e)'])"
   ]
  },
  {
   "cell_type": "code",
   "execution_count": 4,
   "metadata": {},
   "outputs": [
    {
     "name": "stdout",
     "output_type": "stream",
     "text": [
      "base model 15.50963502303643\n",
      "LB 15.729838280024007\n",
      "SCFM 15.509635023036681\n",
      "Minimal w/ Succinate 0.78015477058288\n"
     ]
    }
   ],
   "source": [
    "# Optimize the originial imported model and the LB model\n",
    "solution_original = model_PAO1.optimize()\n",
    "solution_LB = model_LB.optimize()\n",
    "solution_SCFM = model_SCFM.optimize()\n",
    "solution_MM = model_MM.optimize()\n",
    "\n",
    "print('base model',solution_original.objective_value)\n",
    "print('LB',solution_LB.objective_value)\n",
    "print('SCFM',solution_SCFM.objective_value)\n",
    "print('Minimal w/ Succinate',solution_MM.objective_value)\n"
   ]
  },
  {
   "cell_type": "markdown",
   "metadata": {},
   "source": [
    "Note that the objective values between the model I imported (which had some exchanges on) and the LB media model have different objective values. I would like to investigate why this is to make sure that my new function, changeMedia_PA_LJD, is working correctly"
   ]
  },
  {
   "cell_type": "code",
   "execution_count": 12,
   "metadata": {},
   "outputs": [
    {
     "data": {
      "text/plain": [
       "'EX_cpd17085'"
      ]
     },
     "execution_count": 12,
     "metadata": {},
     "output_type": "execute_result"
    }
   ],
   "source": [
    "model_LB.exchanges[1]\n",
    "model_LB.exchanges[1].id[0:11]"
   ]
  },
  {
   "cell_type": "code",
   "execution_count": null,
   "metadata": {},
   "outputs": [],
   "source": []
  }
 ],
 "metadata": {
  "kernelspec": {
   "display_name": "Python 3",
   "language": "python",
   "name": "python3"
  },
  "language_info": {
   "codemirror_mode": {
    "name": "ipython",
    "version": 3
   },
   "file_extension": ".py",
   "mimetype": "text/x-python",
   "name": "python",
   "nbconvert_exporter": "python",
   "pygments_lexer": "ipython3",
   "version": "3.6.5"
  }
 },
 "nbformat": 4,
 "nbformat_minor": 2
}
